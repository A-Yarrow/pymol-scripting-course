{
 "cells": [
  {
   "cell_type": "code",
   "execution_count": null,
   "id": "774fb4ca",
   "metadata": {},
   "outputs": [],
   "source": [
    "import os"
   ]
  },
  {
   "cell_type": "code",
   "execution_count": 2,
   "id": "d340bb8f",
   "metadata": {},
   "outputs": [],
   "source": [
    "def original_function(a, b=0, **kwargs):\n",
    "    print(\"Inside original_function\")\n",
    "    print(f\"  a = {a}\")\n",
    "    print(f\"  b = {b}\")\n",
    "    for key, value in kwargs.items():\n",
    "        print(f\"  Extra kwarg: {key} = {value}\")\n",
    "    return a + b"
   ]
  },
  {
   "cell_type": "code",
   "execution_count": 3,
   "id": "5b45ba74",
   "metadata": {},
   "outputs": [],
   "source": [
    "# Wrapper function that logs and forwards everything\n",
    "def wrapper_function(*args, **kwargs):\n",
    "    print(\"Inside wrapper_function\")\n",
    "    print(f\"  args = {args}\")\n",
    "    print(f\"  kwargs = {kwargs}\")\n",
    "    \n",
    "    result = original_function(*args, **kwargs)  # Forward the call\n",
    "    print(f\"  -> result = {result}\")\n",
    "    return result"
   ]
  },
  {
   "cell_type": "code",
   "execution_count": 4,
   "id": "0a82b88d",
   "metadata": {},
   "outputs": [
    {
     "name": "stdout",
     "output_type": "stream",
     "text": [
      "Inside original_function\n",
      "  a = 1\n",
      "  b = 2\n",
      "  Extra kwarg: c = 3\n",
      "  Extra kwarg: d = 4\n",
      "  Extra kwarg: e = 5\n"
     ]
    },
    {
     "data": {
      "text/plain": [
       "3"
      ]
     },
     "execution_count": 4,
     "metadata": {},
     "output_type": "execute_result"
    }
   ],
   "source": [
    "original_function(1, 2, c=3, d=4, e=5)"
   ]
  },
  {
   "cell_type": "code",
   "execution_count": 5,
   "id": "9130f2ce",
   "metadata": {},
   "outputs": [
    {
     "name": "stdout",
     "output_type": "stream",
     "text": [
      "Inside wrapper_function\n",
      "  args = (5,)\n",
      "  kwargs = {}\n",
      "Inside original_function\n",
      "  a = 5\n",
      "  b = 0\n",
      "  -> result = 5\n"
     ]
    },
    {
     "data": {
      "text/plain": [
       "5"
      ]
     },
     "execution_count": 5,
     "metadata": {},
     "output_type": "execute_result"
    }
   ],
   "source": [
    "wrapper_function(5)"
   ]
  },
  {
   "cell_type": "code",
   "execution_count": 6,
   "id": "165d1b80",
   "metadata": {},
   "outputs": [
    {
     "name": "stdout",
     "output_type": "stream",
     "text": [
      "Inside wrapper_function\n",
      "  args = (1, 2)\n",
      "  kwargs = {'c': 3, 'd': 4, 'e': 5}\n",
      "Inside original_function\n",
      "  a = 1\n",
      "  b = 2\n",
      "  Extra kwarg: c = 3\n",
      "  Extra kwarg: d = 4\n",
      "  Extra kwarg: e = 5\n",
      "  -> result = 3\n"
     ]
    },
    {
     "data": {
      "text/plain": [
       "3"
      ]
     },
     "execution_count": 6,
     "metadata": {},
     "output_type": "execute_result"
    }
   ],
   "source": [
    "wrapper_function(1, 2, c=3, d=4, e=5)"
   ]
  },
  {
   "cell_type": "code",
   "execution_count": null,
   "id": "6afb1602",
   "metadata": {},
   "outputs": [],
   "source": [
    "<palette>\n",
    "<color name='color-name_LG-1' rgb='F7CF97' r='247' g='207' b='150' />\n",
    "<color name='color-name_LG-2' rgb='E3B16B' r='226' g='176' b='106' />\n",
    "<color name='color-name_LG-3' rgb='C6BBC9' r='198' g='187' b='201' />\n",
    "<color name='color-name_LG-4' rgb='25A198' r='36' g='160' b='152' />\n",
    "<color name='color-name_LG-5' rgb='5BD4CC' r='91' g='211' b='203' />\n",
    "</palette>"
   ]
  }
 ],
 "metadata": {
  "kernelspec": {
   "display_name": "Python 3",
   "language": "python",
   "name": "python3"
  },
  "language_info": {
   "codemirror_mode": {
    "name": "ipython",
    "version": 3
   },
   "file_extension": ".py",
   "mimetype": "text/x-python",
   "name": "python",
   "nbconvert_exporter": "python",
   "pygments_lexer": "ipython3",
   "version": "3.10.16"
  }
 },
 "nbformat": 4,
 "nbformat_minor": 5
}
